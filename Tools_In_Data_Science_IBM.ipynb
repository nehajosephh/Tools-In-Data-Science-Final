{
  "nbformat": 4,
  "nbformat_minor": 0,
  "metadata": {
    "colab": {
      "provenance": [],
      "authorship_tag": "ABX9TyNnB7LFxh26whBF2aEF9+g2",
      "include_colab_link": true
    },
    "kernelspec": {
      "name": "python3",
      "display_name": "Python 3"
    },
    "language_info": {
      "name": "python"
    }
  },
  "cells": [
    {
      "cell_type": "markdown",
      "metadata": {
        "id": "view-in-github",
        "colab_type": "text"
      },
      "source": [
        "<a href=\"https://colab.research.google.com/github/nehajosephh/Tools-In-Data-Science-Final/blob/main/Tools_In_Data_Science_IBM.ipynb\" target=\"_parent\"><img src=\"https://colab.research.google.com/assets/colab-badge.svg\" alt=\"Open In Colab\"/></a>"
      ]
    },
    {
      "cell_type": "markdown",
      "source": [
        "# Data Science Final Project\n"
      ],
      "metadata": {
        "id": "rThBjDZRo9M3"
      }
    },
    {
      "cell_type": "markdown",
      "source": [
        "## Introduction  \n",
        "This notebook covers essential topics in data science, including languages, libraries, tools, and simple arithmetic operations in Python.\n"
      ],
      "metadata": {
        "id": "WNgRghqKotv8"
      }
    },
    {
      "cell_type": "markdown",
      "source": [
        "## Data Science Languages  \n",
        "- Python  \n",
        "- R  \n",
        "- SQL  \n",
        "- Julia  \n",
        "- Scala  \n"
      ],
      "metadata": {
        "id": "CaljLy6ApGJy"
      }
    },
    {
      "cell_type": "markdown",
      "source": [
        "## Data Science Libraries  \n",
        "- Pandas  \n",
        "- NumPy  \n",
        "- Matplotlib  \n",
        "- Scikit-learn  \n",
        "- TensorFlow  \n",
        "- ggplot2  \n"
      ],
      "metadata": {
        "id": "iZL2JhUppIkt"
      }
    },
    {
      "cell_type": "markdown",
      "source": [
        "## Data Science Tools  \n",
        "\n",
        "| Tool           | Type             |\n",
        "|----------------|------------------|\n",
        "| Jupyter        | Notebook Editor  |\n",
        "| RStudio        | IDE              |\n",
        "| VSCode         | Code Editor      |\n",
        "| Apache Spark   | Big Data Engine  |\n",
        "| TensorFlow     | ML Framework     |\n"
      ],
      "metadata": {
        "id": "OhPJ7FZ2pLRI"
      }
    },
    {
      "cell_type": "markdown",
      "source": [
        "## Examples of Arithmetic Expressions\n",
        "Below are examples of basic arithmetic operations in Python.\n"
      ],
      "metadata": {
        "id": "VAaDuLuXpOaN"
      }
    },
    {
      "cell_type": "code",
      "source": [
        "# Multiply and add\n",
        "result = (5 * 4) + 3\n",
        "result\n"
      ],
      "metadata": {
        "colab": {
          "base_uri": "https://localhost:8080/"
        },
        "id": "v2QKzeuFpTDm",
        "outputId": "e0f5fefc-624b-4b19-8a34-33fadca5b2dc"
      },
      "execution_count": 2,
      "outputs": [
        {
          "output_type": "execute_result",
          "data": {
            "text/plain": [
              "23"
            ]
          },
          "metadata": {},
          "execution_count": 2
        }
      ]
    },
    {
      "cell_type": "code",
      "source": [
        "# Convert 150 minutes to hours\n",
        "minutes = 150\n",
        "hours = minutes / 60\n",
        "hours\n"
      ],
      "metadata": {
        "colab": {
          "base_uri": "https://localhost:8080/"
        },
        "id": "0URfMRjspVla",
        "outputId": "144c8212-a884-43af-b1fe-b0c4cd1189c4"
      },
      "execution_count": 3,
      "outputs": [
        {
          "output_type": "execute_result",
          "data": {
            "text/plain": [
              "2.5"
            ]
          },
          "metadata": {},
          "execution_count": 3
        }
      ]
    },
    {
      "cell_type": "markdown",
      "source": [
        "## Objectives  \n",
        "- List common data science languages  \n",
        "- Identify key data science libraries  \n",
        "- Perform basic arithmetic operations in Python  \n",
        "- Learn about various data science tools  \n"
      ],
      "metadata": {
        "id": "hJbRWvtupZGw"
      }
    },
    {
      "cell_type": "markdown",
      "source": [
        "## Author  \n",
        "**Neha Koottummelkkattil Joseph**\n"
      ],
      "metadata": {
        "id": "aOupvQ7bpdoe"
      }
    },
    {
      "cell_type": "markdown",
      "source": [
        "## GitHub Link  \n",
        "[Click here to view my notebook](https://github.com/nehajosephh/Tools-In-Data-Science-Final)\n",
        "\n"
      ],
      "metadata": {
        "id": "qLC9r3OBp4Tl"
      }
    }
  ]
}